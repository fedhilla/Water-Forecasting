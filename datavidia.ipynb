{
  "cells": [
    {
      "cell_type": "code",
      "source": [
        "%%capture\n",
        "!pip install jcopml"
      ],
      "metadata": {
        "id": "3wRZlJ7_2UhY"
      },
      "id": "3wRZlJ7_2UhY",
      "execution_count": null,
      "outputs": []
    },
    {
      "cell_type": "code",
      "execution_count": null,
      "id": "e69aca4d",
      "metadata": {
        "id": "e69aca4d"
      },
      "outputs": [],
      "source": [
        "import numpy as np\n",
        "import pandas as pd\n",
        "import matplotlib.pyplot as plt\n",
        "import seaborn as sns\n",
        "\n",
        "from sklearn.model_selection import train_test_split, GridSearchCV\n",
        "from sklearn.pipeline import Pipeline\n",
        "from sklearn.compose import ColumnTransformer\n",
        "from sklearn.neighbors import KNeighborsClassifier\n",
        "\n",
        "from jcopml.plot import plot_missing_value"
      ]
    },
    {
      "cell_type": "code",
      "execution_count": null,
      "id": "bb81cff5",
      "metadata": {
        "colab": {
          "base_uri": "https://localhost:8080/",
          "height": 388
        },
        "id": "bb81cff5",
        "outputId": "9eb180b5-3688-4bc9-b58e-33133c73a9fc"
      },
      "outputs": [
        {
          "output_type": "execute_result",
          "data": {
            "text/plain": [
              "         time  temperature_2m_max  temperature_2m_min  \\\n",
              "id                                                      \n",
              "0  2021-08-02                32.3                25.3   \n",
              "1  2021-08-03                31.7                25.5   \n",
              "2  2021-08-04                32.6                25.7   \n",
              "3  2021-08-05                32.0                25.7   \n",
              "4  2021-08-06                31.9                26.3   \n",
              "\n",
              "    apparent_temperature_max  apparent_temperature_min           sunrise  \\\n",
              "id                                                                         \n",
              "0                       38.2                      29.6  2021-08-02T05:39   \n",
              "1                       37.4                      30.3  2021-08-03T05:39   \n",
              "2                       37.1                      30.8  2021-08-04T05:39   \n",
              "3                       36.8                      31.1  2021-08-05T05:39   \n",
              "4                       36.0                      31.6  2021-08-06T05:38   \n",
              "\n",
              "              sunset  shortwave_radiation_sum(MJ/m²)  snowfall_sum(cm)  \\\n",
              "id                                                                       \n",
              "0   2021-08-02T17:30                           20.79               0.0   \n",
              "1   2021-08-03T17:30                           20.01               0.0   \n",
              "2   2021-08-04T17:30                           20.89               0.0   \n",
              "3   2021-08-05T17:30                           22.19               0.0   \n",
              "4   2021-08-06T17:30                           21.84               0.0   \n",
              "\n",
              "    windspeed_10m_max(km/h)  windgusts_10m_max(km/h)  \\\n",
              "id                                                     \n",
              "0                       7.6                     16.9   \n",
              "1                      10.2                     21.6   \n",
              "2                      17.3                     32.4   \n",
              "3                      15.8                     29.2   \n",
              "4                      20.2                     36.7   \n",
              "\n",
              "    winddirection_10m_dominant  et0_fao_evapotranspiration(mm)  elevation city  \n",
              "id                                                                              \n",
              "0                        134.0                            4.45          0   su  \n",
              "1                        131.0                            4.32          0   su  \n",
              "2                        116.0                            4.73          0   su  \n",
              "3                        115.0                            4.96          0   su  \n",
              "4                        106.0                            4.99          0   su  "
            ],
            "text/html": [
              "\n",
              "  <div id=\"df-21bd2b6e-b31e-41e7-8d40-9cccd3bd9d5d\">\n",
              "    <div class=\"colab-df-container\">\n",
              "      <div>\n",
              "<style scoped>\n",
              "    .dataframe tbody tr th:only-of-type {\n",
              "        vertical-align: middle;\n",
              "    }\n",
              "\n",
              "    .dataframe tbody tr th {\n",
              "        vertical-align: top;\n",
              "    }\n",
              "\n",
              "    .dataframe thead th {\n",
              "        text-align: right;\n",
              "    }\n",
              "</style>\n",
              "<table border=\"1\" class=\"dataframe\">\n",
              "  <thead>\n",
              "    <tr style=\"text-align: right;\">\n",
              "      <th></th>\n",
              "      <th>time</th>\n",
              "      <th>temperature_2m_max</th>\n",
              "      <th>temperature_2m_min</th>\n",
              "      <th>apparent_temperature_max</th>\n",
              "      <th>apparent_temperature_min</th>\n",
              "      <th>sunrise</th>\n",
              "      <th>sunset</th>\n",
              "      <th>shortwave_radiation_sum(MJ/m²)</th>\n",
              "      <th>snowfall_sum(cm)</th>\n",
              "      <th>windspeed_10m_max(km/h)</th>\n",
              "      <th>windgusts_10m_max(km/h)</th>\n",
              "      <th>winddirection_10m_dominant</th>\n",
              "      <th>et0_fao_evapotranspiration(mm)</th>\n",
              "      <th>elevation</th>\n",
              "      <th>city</th>\n",
              "    </tr>\n",
              "    <tr>\n",
              "      <th>id</th>\n",
              "      <th></th>\n",
              "      <th></th>\n",
              "      <th></th>\n",
              "      <th></th>\n",
              "      <th></th>\n",
              "      <th></th>\n",
              "      <th></th>\n",
              "      <th></th>\n",
              "      <th></th>\n",
              "      <th></th>\n",
              "      <th></th>\n",
              "      <th></th>\n",
              "      <th></th>\n",
              "      <th></th>\n",
              "      <th></th>\n",
              "    </tr>\n",
              "  </thead>\n",
              "  <tbody>\n",
              "    <tr>\n",
              "      <th>0</th>\n",
              "      <td>2021-08-02</td>\n",
              "      <td>32.3</td>\n",
              "      <td>25.3</td>\n",
              "      <td>38.2</td>\n",
              "      <td>29.6</td>\n",
              "      <td>2021-08-02T05:39</td>\n",
              "      <td>2021-08-02T17:30</td>\n",
              "      <td>20.79</td>\n",
              "      <td>0.0</td>\n",
              "      <td>7.6</td>\n",
              "      <td>16.9</td>\n",
              "      <td>134.0</td>\n",
              "      <td>4.45</td>\n",
              "      <td>0</td>\n",
              "      <td>su</td>\n",
              "    </tr>\n",
              "    <tr>\n",
              "      <th>1</th>\n",
              "      <td>2021-08-03</td>\n",
              "      <td>31.7</td>\n",
              "      <td>25.5</td>\n",
              "      <td>37.4</td>\n",
              "      <td>30.3</td>\n",
              "      <td>2021-08-03T05:39</td>\n",
              "      <td>2021-08-03T17:30</td>\n",
              "      <td>20.01</td>\n",
              "      <td>0.0</td>\n",
              "      <td>10.2</td>\n",
              "      <td>21.6</td>\n",
              "      <td>131.0</td>\n",
              "      <td>4.32</td>\n",
              "      <td>0</td>\n",
              "      <td>su</td>\n",
              "    </tr>\n",
              "    <tr>\n",
              "      <th>2</th>\n",
              "      <td>2021-08-04</td>\n",
              "      <td>32.6</td>\n",
              "      <td>25.7</td>\n",
              "      <td>37.1</td>\n",
              "      <td>30.8</td>\n",
              "      <td>2021-08-04T05:39</td>\n",
              "      <td>2021-08-04T17:30</td>\n",
              "      <td>20.89</td>\n",
              "      <td>0.0</td>\n",
              "      <td>17.3</td>\n",
              "      <td>32.4</td>\n",
              "      <td>116.0</td>\n",
              "      <td>4.73</td>\n",
              "      <td>0</td>\n",
              "      <td>su</td>\n",
              "    </tr>\n",
              "    <tr>\n",
              "      <th>3</th>\n",
              "      <td>2021-08-05</td>\n",
              "      <td>32.0</td>\n",
              "      <td>25.7</td>\n",
              "      <td>36.8</td>\n",
              "      <td>31.1</td>\n",
              "      <td>2021-08-05T05:39</td>\n",
              "      <td>2021-08-05T17:30</td>\n",
              "      <td>22.19</td>\n",
              "      <td>0.0</td>\n",
              "      <td>15.8</td>\n",
              "      <td>29.2</td>\n",
              "      <td>115.0</td>\n",
              "      <td>4.96</td>\n",
              "      <td>0</td>\n",
              "      <td>su</td>\n",
              "    </tr>\n",
              "    <tr>\n",
              "      <th>4</th>\n",
              "      <td>2021-08-06</td>\n",
              "      <td>31.9</td>\n",
              "      <td>26.3</td>\n",
              "      <td>36.0</td>\n",
              "      <td>31.6</td>\n",
              "      <td>2021-08-06T05:38</td>\n",
              "      <td>2021-08-06T17:30</td>\n",
              "      <td>21.84</td>\n",
              "      <td>0.0</td>\n",
              "      <td>20.2</td>\n",
              "      <td>36.7</td>\n",
              "      <td>106.0</td>\n",
              "      <td>4.99</td>\n",
              "      <td>0</td>\n",
              "      <td>su</td>\n",
              "    </tr>\n",
              "  </tbody>\n",
              "</table>\n",
              "</div>\n",
              "      <button class=\"colab-df-convert\" onclick=\"convertToInteractive('df-21bd2b6e-b31e-41e7-8d40-9cccd3bd9d5d')\"\n",
              "              title=\"Convert this dataframe to an interactive table.\"\n",
              "              style=\"display:none;\">\n",
              "        \n",
              "  <svg xmlns=\"http://www.w3.org/2000/svg\" height=\"24px\"viewBox=\"0 0 24 24\"\n",
              "       width=\"24px\">\n",
              "    <path d=\"M0 0h24v24H0V0z\" fill=\"none\"/>\n",
              "    <path d=\"M18.56 5.44l.94 2.06.94-2.06 2.06-.94-2.06-.94-.94-2.06-.94 2.06-2.06.94zm-11 1L8.5 8.5l.94-2.06 2.06-.94-2.06-.94L8.5 2.5l-.94 2.06-2.06.94zm10 10l.94 2.06.94-2.06 2.06-.94-2.06-.94-.94-2.06-.94 2.06-2.06.94z\"/><path d=\"M17.41 7.96l-1.37-1.37c-.4-.4-.92-.59-1.43-.59-.52 0-1.04.2-1.43.59L10.3 9.45l-7.72 7.72c-.78.78-.78 2.05 0 2.83L4 21.41c.39.39.9.59 1.41.59.51 0 1.02-.2 1.41-.59l7.78-7.78 2.81-2.81c.8-.78.8-2.07 0-2.86zM5.41 20L4 18.59l7.72-7.72 1.47 1.35L5.41 20z\"/>\n",
              "  </svg>\n",
              "      </button>\n",
              "      \n",
              "  <style>\n",
              "    .colab-df-container {\n",
              "      display:flex;\n",
              "      flex-wrap:wrap;\n",
              "      gap: 12px;\n",
              "    }\n",
              "\n",
              "    .colab-df-convert {\n",
              "      background-color: #E8F0FE;\n",
              "      border: none;\n",
              "      border-radius: 50%;\n",
              "      cursor: pointer;\n",
              "      display: none;\n",
              "      fill: #1967D2;\n",
              "      height: 32px;\n",
              "      padding: 0 0 0 0;\n",
              "      width: 32px;\n",
              "    }\n",
              "\n",
              "    .colab-df-convert:hover {\n",
              "      background-color: #E2EBFA;\n",
              "      box-shadow: 0px 1px 2px rgba(60, 64, 67, 0.3), 0px 1px 3px 1px rgba(60, 64, 67, 0.15);\n",
              "      fill: #174EA6;\n",
              "    }\n",
              "\n",
              "    [theme=dark] .colab-df-convert {\n",
              "      background-color: #3B4455;\n",
              "      fill: #D2E3FC;\n",
              "    }\n",
              "\n",
              "    [theme=dark] .colab-df-convert:hover {\n",
              "      background-color: #434B5C;\n",
              "      box-shadow: 0px 1px 3px 1px rgba(0, 0, 0, 0.15);\n",
              "      filter: drop-shadow(0px 1px 2px rgba(0, 0, 0, 0.3));\n",
              "      fill: #FFFFFF;\n",
              "    }\n",
              "  </style>\n",
              "\n",
              "      <script>\n",
              "        const buttonEl =\n",
              "          document.querySelector('#df-21bd2b6e-b31e-41e7-8d40-9cccd3bd9d5d button.colab-df-convert');\n",
              "        buttonEl.style.display =\n",
              "          google.colab.kernel.accessAllowed ? 'block' : 'none';\n",
              "\n",
              "        async function convertToInteractive(key) {\n",
              "          const element = document.querySelector('#df-21bd2b6e-b31e-41e7-8d40-9cccd3bd9d5d');\n",
              "          const dataTable =\n",
              "            await google.colab.kernel.invokeFunction('convertToInteractive',\n",
              "                                                     [key], {});\n",
              "          if (!dataTable) return;\n",
              "\n",
              "          const docLinkHtml = 'Like what you see? Visit the ' +\n",
              "            '<a target=\"_blank\" href=https://colab.research.google.com/notebooks/data_table.ipynb>data table notebook</a>'\n",
              "            + ' to learn more about interactive tables.';\n",
              "          element.innerHTML = '';\n",
              "          dataTable['output_type'] = 'display_data';\n",
              "          await google.colab.output.renderOutput(dataTable, element);\n",
              "          const docLink = document.createElement('div');\n",
              "          docLink.innerHTML = docLinkHtml;\n",
              "          element.appendChild(docLink);\n",
              "        }\n",
              "      </script>\n",
              "    </div>\n",
              "  </div>\n",
              "  "
            ]
          },
          "metadata": {},
          "execution_count": 87
        }
      ],
      "source": [
        "df_test=pd.read_csv(\"content/test.csv\", index_col=\"id\", parse_dates=['time'])\n",
        "df_test_hourly=pd.read_csv(\"/content/test_hourly.csv\", parse_dates=['time'])\n",
        "df_test_hourly.dropna(inplace = True)\n",
        "\n",
        "df_train=pd.read_csv(\"/content/train.csv\", parse_dates=['time'])\n",
        "df_train.dropna(subset = [\"rain_sum (mm)\"],inplace = True)\n",
        "df_train_hourly = pd.read_csv(\"/content/train_hourly.csv\",parse_dates=  [\"time\"])\n",
        "df_train_hourly.dropna(inplace = True)\n",
        "df_test.head()"
      ]
    },
    {
      "cell_type": "code",
      "execution_count": null,
      "id": "bef60cf4",
      "metadata": {
        "id": "bef60cf4"
      },
      "outputs": [],
      "source": [
        "\n",
        "dict_agg = {}\n",
        "for col in df_train_hourly.columns:\n",
        "    if col not in [\"time\",\"city\"]:\n",
        "        dict_agg[col] = [\"mean\",\"std\",\"min\",\"max\"]\n",
        "def agg_data(df_hourly,df,dict_agg,freq):\n",
        "    data = df_hourly.copy()\n",
        "    data = data.groupby([\"city\",pd.Grouper(key=\"time\",freq=freq)]).agg(dict_agg)\n",
        "    data = data.reset_index()\n",
        "    data[\"time_hour\"] = data['time']\n",
        "    data[\"time_hour\"] = data['time_hour'].dt.hour\n",
        "    data['time'] = data['time'].dt.date\n",
        "    data.set_index([\"time\",\"city\",\"time_hour\"],inplace = True)\n",
        "    #\n",
        "    data = data.unstack(level=2)\n",
        "    data.columns = data.columns = [x[0] + \"_\" + x[1] + \"_\" +str(x[2]) for x in data.columns.ravel()]\n",
        "    data = data.reset_index()\n",
        "    data['time'] = pd.to_datetime(data['time'])\n",
        "    df = df.merge(data, on=[\"time\",\"city\"], how=\"left\")\n",
        "    return df"
      ]
    },
    {
      "cell_type": "markdown",
      "source": [
        "# New Section"
      ],
      "metadata": {
        "id": "JAr-yqoR8crU"
      },
      "id": "JAr-yqoR8crU"
    },
    {
      "cell_type": "code",
      "execution_count": null,
      "id": "17976803",
      "metadata": {
        "colab": {
          "base_uri": "https://localhost:8080/",
          "height": 435
        },
        "id": "17976803",
        "outputId": "886832d5-30e3-4975-f34c-11cd6d8897b5"
      },
      "outputs": [
        {
          "output_type": "stream",
          "name": "stderr",
          "text": [
            "<ipython-input-88-5d7a8167d7d8>:15: FutureWarning: Index.ravel returning ndarray is deprecated; in a future version this will return a view on self.\n",
            "  data.columns = data.columns = [x[0] + \"_\" + x[1] + \"_\" +str(x[2]) for x in data.columns.ravel()]\n"
          ]
        },
        {
          "output_type": "error",
          "ename": "KeyError",
          "evalue": "ignored",
          "traceback": [
            "\u001b[0;31m---------------------------------------------------------------------------\u001b[0m",
            "\u001b[0;31mKeyError\u001b[0m                                  Traceback (most recent call last)",
            "\u001b[0;32m<ipython-input-91-17c0d5ddb822>\u001b[0m in \u001b[0;36m<module>\u001b[0;34m\u001b[0m\n\u001b[1;32m      1\u001b[0m \u001b[0mdf_train_merge\u001b[0m \u001b[0;34m=\u001b[0m \u001b[0magg_data\u001b[0m\u001b[0;34m(\u001b[0m\u001b[0mdf_train_hourly\u001b[0m\u001b[0;34m,\u001b[0m\u001b[0mdf_train\u001b[0m\u001b[0;34m,\u001b[0m\u001b[0mdict_agg\u001b[0m\u001b[0;34m,\u001b[0m\u001b[0;34m\"12H\"\u001b[0m\u001b[0;34m)\u001b[0m\u001b[0;34m\u001b[0m\u001b[0;34m\u001b[0m\u001b[0m\n\u001b[0;32m----> 2\u001b[0;31m \u001b[0mdf_test_merge\u001b[0m \u001b[0;34m=\u001b[0m \u001b[0magg_data\u001b[0m\u001b[0;34m(\u001b[0m\u001b[0mdf_test_hourly\u001b[0m\u001b[0;34m,\u001b[0m\u001b[0mdf_test\u001b[0m\u001b[0;34m,\u001b[0m\u001b[0mdict_agg\u001b[0m\u001b[0;34m,\u001b[0m \u001b[0;34m\"12H\"\u001b[0m\u001b[0;34m)\u001b[0m\u001b[0;34m\u001b[0m\u001b[0;34m\u001b[0m\u001b[0m\n\u001b[0m\u001b[1;32m      3\u001b[0m \u001b[0mdf_train_merge\u001b[0m\u001b[0;34m.\u001b[0m\u001b[0mhead\u001b[0m\u001b[0;34m(\u001b[0m\u001b[0;34m)\u001b[0m\u001b[0;34m\u001b[0m\u001b[0;34m\u001b[0m\u001b[0m\n",
            "\u001b[0;32m<ipython-input-88-5d7a8167d7d8>\u001b[0m in \u001b[0;36magg_data\u001b[0;34m(df_hourly, df, dict_agg, freq)\u001b[0m\n\u001b[1;32m      5\u001b[0m \u001b[0;32mdef\u001b[0m \u001b[0magg_data\u001b[0m\u001b[0;34m(\u001b[0m\u001b[0mdf_hourly\u001b[0m\u001b[0;34m,\u001b[0m\u001b[0mdf\u001b[0m\u001b[0;34m,\u001b[0m\u001b[0mdict_agg\u001b[0m\u001b[0;34m,\u001b[0m\u001b[0mfreq\u001b[0m\u001b[0;34m)\u001b[0m\u001b[0;34m:\u001b[0m\u001b[0;34m\u001b[0m\u001b[0;34m\u001b[0m\u001b[0m\n\u001b[1;32m      6\u001b[0m     \u001b[0mdata\u001b[0m \u001b[0;34m=\u001b[0m \u001b[0mdf_hourly\u001b[0m\u001b[0;34m.\u001b[0m\u001b[0mcopy\u001b[0m\u001b[0;34m(\u001b[0m\u001b[0;34m)\u001b[0m\u001b[0;34m\u001b[0m\u001b[0;34m\u001b[0m\u001b[0m\n\u001b[0;32m----> 7\u001b[0;31m     \u001b[0mdata\u001b[0m \u001b[0;34m=\u001b[0m \u001b[0mdata\u001b[0m\u001b[0;34m.\u001b[0m\u001b[0mgroupby\u001b[0m\u001b[0;34m(\u001b[0m\u001b[0;34m[\u001b[0m\u001b[0;34m\"city\"\u001b[0m\u001b[0;34m,\u001b[0m\u001b[0mpd\u001b[0m\u001b[0;34m.\u001b[0m\u001b[0mGrouper\u001b[0m\u001b[0;34m(\u001b[0m\u001b[0mkey\u001b[0m\u001b[0;34m=\u001b[0m\u001b[0;34m\"time\"\u001b[0m\u001b[0;34m,\u001b[0m\u001b[0mfreq\u001b[0m\u001b[0;34m=\u001b[0m\u001b[0mfreq\u001b[0m\u001b[0;34m)\u001b[0m\u001b[0;34m]\u001b[0m\u001b[0;34m)\u001b[0m\u001b[0;34m.\u001b[0m\u001b[0magg\u001b[0m\u001b[0;34m(\u001b[0m\u001b[0mdict_agg\u001b[0m\u001b[0;34m)\u001b[0m\u001b[0;34m\u001b[0m\u001b[0;34m\u001b[0m\u001b[0m\n\u001b[0m\u001b[1;32m      8\u001b[0m     \u001b[0mdata\u001b[0m \u001b[0;34m=\u001b[0m \u001b[0mdata\u001b[0m\u001b[0;34m.\u001b[0m\u001b[0mreset_index\u001b[0m\u001b[0;34m(\u001b[0m\u001b[0;34m)\u001b[0m\u001b[0;34m\u001b[0m\u001b[0;34m\u001b[0m\u001b[0m\n\u001b[1;32m      9\u001b[0m     \u001b[0mdata\u001b[0m\u001b[0;34m[\u001b[0m\u001b[0;34m\"time_hour\"\u001b[0m\u001b[0;34m]\u001b[0m \u001b[0;34m=\u001b[0m \u001b[0mdata\u001b[0m\u001b[0;34m[\u001b[0m\u001b[0;34m'time'\u001b[0m\u001b[0;34m]\u001b[0m\u001b[0;34m\u001b[0m\u001b[0;34m\u001b[0m\u001b[0m\n",
            "\u001b[0;32m/usr/local/lib/python3.8/dist-packages/pandas/core/groupby/generic.py\u001b[0m in \u001b[0;36maggregate\u001b[0;34m(self, func, engine, engine_kwargs, *args, **kwargs)\u001b[0m\n\u001b[1;32m    977\u001b[0m \u001b[0;34m\u001b[0m\u001b[0m\n\u001b[1;32m    978\u001b[0m         \u001b[0mop\u001b[0m \u001b[0;34m=\u001b[0m \u001b[0mGroupByApply\u001b[0m\u001b[0;34m(\u001b[0m\u001b[0mself\u001b[0m\u001b[0;34m,\u001b[0m \u001b[0mfunc\u001b[0m\u001b[0;34m,\u001b[0m \u001b[0margs\u001b[0m\u001b[0;34m,\u001b[0m \u001b[0mkwargs\u001b[0m\u001b[0;34m)\u001b[0m\u001b[0;34m\u001b[0m\u001b[0;34m\u001b[0m\u001b[0m\n\u001b[0;32m--> 979\u001b[0;31m         \u001b[0mresult\u001b[0m \u001b[0;34m=\u001b[0m \u001b[0mop\u001b[0m\u001b[0;34m.\u001b[0m\u001b[0magg\u001b[0m\u001b[0;34m(\u001b[0m\u001b[0;34m)\u001b[0m\u001b[0;34m\u001b[0m\u001b[0;34m\u001b[0m\u001b[0m\n\u001b[0m\u001b[1;32m    980\u001b[0m         \u001b[0;32mif\u001b[0m \u001b[0;32mnot\u001b[0m \u001b[0mis_dict_like\u001b[0m\u001b[0;34m(\u001b[0m\u001b[0mfunc\u001b[0m\u001b[0;34m)\u001b[0m \u001b[0;32mand\u001b[0m \u001b[0mresult\u001b[0m \u001b[0;32mis\u001b[0m \u001b[0;32mnot\u001b[0m \u001b[0;32mNone\u001b[0m\u001b[0;34m:\u001b[0m\u001b[0;34m\u001b[0m\u001b[0;34m\u001b[0m\u001b[0m\n\u001b[1;32m    981\u001b[0m             \u001b[0;32mreturn\u001b[0m \u001b[0mresult\u001b[0m\u001b[0;34m\u001b[0m\u001b[0;34m\u001b[0m\u001b[0m\n",
            "\u001b[0;32m/usr/local/lib/python3.8/dist-packages/pandas/core/apply.py\u001b[0m in \u001b[0;36magg\u001b[0;34m(self)\u001b[0m\n\u001b[1;32m    159\u001b[0m \u001b[0;34m\u001b[0m\u001b[0m\n\u001b[1;32m    160\u001b[0m         \u001b[0;32mif\u001b[0m \u001b[0mis_dict_like\u001b[0m\u001b[0;34m(\u001b[0m\u001b[0marg\u001b[0m\u001b[0;34m)\u001b[0m\u001b[0;34m:\u001b[0m\u001b[0;34m\u001b[0m\u001b[0;34m\u001b[0m\u001b[0m\n\u001b[0;32m--> 161\u001b[0;31m             \u001b[0;32mreturn\u001b[0m \u001b[0mself\u001b[0m\u001b[0;34m.\u001b[0m\u001b[0magg_dict_like\u001b[0m\u001b[0;34m(\u001b[0m\u001b[0;34m)\u001b[0m\u001b[0;34m\u001b[0m\u001b[0;34m\u001b[0m\u001b[0m\n\u001b[0m\u001b[1;32m    162\u001b[0m         \u001b[0;32melif\u001b[0m \u001b[0mis_list_like\u001b[0m\u001b[0;34m(\u001b[0m\u001b[0marg\u001b[0m\u001b[0;34m)\u001b[0m\u001b[0;34m:\u001b[0m\u001b[0;34m\u001b[0m\u001b[0;34m\u001b[0m\u001b[0m\n\u001b[1;32m    163\u001b[0m             \u001b[0;31m# we require a list, but not a 'str'\u001b[0m\u001b[0;34m\u001b[0m\u001b[0;34m\u001b[0m\u001b[0;34m\u001b[0m\u001b[0m\n",
            "\u001b[0;32m/usr/local/lib/python3.8/dist-packages/pandas/core/apply.py\u001b[0m in \u001b[0;36magg_dict_like\u001b[0;34m(self)\u001b[0m\n\u001b[1;32m    425\u001b[0m             \u001b[0mselection\u001b[0m \u001b[0;34m=\u001b[0m \u001b[0mobj\u001b[0m\u001b[0;34m.\u001b[0m\u001b[0m_selection\u001b[0m\u001b[0;34m\u001b[0m\u001b[0;34m\u001b[0m\u001b[0m\n\u001b[1;32m    426\u001b[0m \u001b[0;34m\u001b[0m\u001b[0m\n\u001b[0;32m--> 427\u001b[0;31m         \u001b[0marg\u001b[0m \u001b[0;34m=\u001b[0m \u001b[0mself\u001b[0m\u001b[0;34m.\u001b[0m\u001b[0mnormalize_dictlike_arg\u001b[0m\u001b[0;34m(\u001b[0m\u001b[0;34m\"agg\"\u001b[0m\u001b[0;34m,\u001b[0m \u001b[0mselected_obj\u001b[0m\u001b[0;34m,\u001b[0m \u001b[0marg\u001b[0m\u001b[0;34m)\u001b[0m\u001b[0;34m\u001b[0m\u001b[0;34m\u001b[0m\u001b[0m\n\u001b[0m\u001b[1;32m    428\u001b[0m \u001b[0;34m\u001b[0m\u001b[0m\n\u001b[1;32m    429\u001b[0m         \u001b[0;32mif\u001b[0m \u001b[0mselected_obj\u001b[0m\u001b[0;34m.\u001b[0m\u001b[0mndim\u001b[0m \u001b[0;34m==\u001b[0m \u001b[0;36m1\u001b[0m\u001b[0;34m:\u001b[0m\u001b[0;34m\u001b[0m\u001b[0;34m\u001b[0m\u001b[0m\n",
            "\u001b[0;32m/usr/local/lib/python3.8/dist-packages/pandas/core/apply.py\u001b[0m in \u001b[0;36mnormalize_dictlike_arg\u001b[0;34m(self, how, obj, func)\u001b[0m\n\u001b[1;32m    544\u001b[0m             \u001b[0;32mif\u001b[0m \u001b[0mlen\u001b[0m\u001b[0;34m(\u001b[0m\u001b[0mcols\u001b[0m\u001b[0;34m)\u001b[0m \u001b[0;34m>\u001b[0m \u001b[0;36m0\u001b[0m\u001b[0;34m:\u001b[0m\u001b[0;34m\u001b[0m\u001b[0;34m\u001b[0m\u001b[0m\n\u001b[1;32m    545\u001b[0m                 \u001b[0mcols_sorted\u001b[0m \u001b[0;34m=\u001b[0m \u001b[0mlist\u001b[0m\u001b[0;34m(\u001b[0m\u001b[0msafe_sort\u001b[0m\u001b[0;34m(\u001b[0m\u001b[0mlist\u001b[0m\u001b[0;34m(\u001b[0m\u001b[0mcols\u001b[0m\u001b[0;34m)\u001b[0m\u001b[0;34m)\u001b[0m\u001b[0;34m)\u001b[0m\u001b[0;34m\u001b[0m\u001b[0;34m\u001b[0m\u001b[0m\n\u001b[0;32m--> 546\u001b[0;31m                 \u001b[0;32mraise\u001b[0m \u001b[0mKeyError\u001b[0m\u001b[0;34m(\u001b[0m\u001b[0;34mf\"Column(s) {cols_sorted} do not exist\"\u001b[0m\u001b[0;34m)\u001b[0m\u001b[0;34m\u001b[0m\u001b[0;34m\u001b[0m\u001b[0m\n\u001b[0m\u001b[1;32m    547\u001b[0m \u001b[0;34m\u001b[0m\u001b[0m\n\u001b[1;32m    548\u001b[0m         \u001b[0mis_aggregator\u001b[0m \u001b[0;34m=\u001b[0m \u001b[0;32mlambda\u001b[0m \u001b[0mx\u001b[0m\u001b[0;34m:\u001b[0m \u001b[0misinstance\u001b[0m\u001b[0;34m(\u001b[0m\u001b[0mx\u001b[0m\u001b[0;34m,\u001b[0m \u001b[0;34m(\u001b[0m\u001b[0mlist\u001b[0m\u001b[0;34m,\u001b[0m \u001b[0mtuple\u001b[0m\u001b[0;34m,\u001b[0m \u001b[0mdict\u001b[0m\u001b[0;34m)\u001b[0m\u001b[0;34m)\u001b[0m\u001b[0;34m\u001b[0m\u001b[0;34m\u001b[0m\u001b[0m\n",
            "\u001b[0;31mKeyError\u001b[0m: \"Column(s) ['cloudcover (%)', 'cloudcover_high (%)', 'cloudcover_low (%)', 'cloudcover_mid (%)', 'diffuse_radiation (W/m²)', 'direct_normal_irradiance (W/m²)', 'direct_radiation (W/m²)', 'pressure_msl (hPa)', 'relativehumidity_2m (%)', 'shortwave_radiation (W/m²)', 'snowfall (cm)', 'surface_pressure (hPa)', 'windgusts_10m (km/h)', 'windspeed_10m (km/h)'] do not exist\""
          ]
        }
      ],
      "source": [
        "df_train_merge = agg_data(df_train_hourly,df_train,dict_agg,\"12H\")\n",
        "df_test_merge = agg_data(df_test_hourly,df_test,dict_agg, \"12H\")\n",
        "df_train_merge.head()"
      ]
    },
    {
      "cell_type": "markdown",
      "id": "99f7e514",
      "metadata": {
        "id": "99f7e514"
      },
      "source": [
        "## Exploratory Data Analyse (EDA)"
      ]
    },
    {
      "cell_type": "markdown",
      "source": [
        "# New Section"
      ],
      "metadata": {
        "id": "R_O-6rD63pfY"
      },
      "id": "R_O-6rD63pfY"
    },
    {
      "cell_type": "code",
      "source": [
        "df_test_merge.info( )"
      ],
      "metadata": {
        "colab": {
          "base_uri": "https://localhost:8080/"
        },
        "id": "1svRl5LdFq1E",
        "outputId": "ffe8d2b0-1390-4928-94a6-ada1a06cf78e"
      },
      "id": "1svRl5LdFq1E",
      "execution_count": null,
      "outputs": [
        {
          "output_type": "stream",
          "name": "stdout",
          "text": [
            "<class 'pandas.core.frame.DataFrame'>\n",
            "Int64Index: 4972 entries, 0 to 4971\n",
            "Columns: 255 entries, time to soil_moisture_100_to_255cm (m³/m³)_max_12\n",
            "dtypes: datetime64[ns](1), float64(250), int64(1), object(3)\n",
            "memory usage: 9.7+ MB\n"
          ]
        }
      ]
    },
    {
      "cell_type": "code",
      "source": [
        "plot_missing_value(df_train_merge)"
      ],
      "metadata": {
        "id": "qK5loo0D6Y54",
        "colab": {
          "base_uri": "https://localhost:8080/",
          "height": 382
        },
        "outputId": "33c0dfc5-c9fc-4f35-ff2e-dd9683ac93a5"
      },
      "id": "qK5loo0D6Y54",
      "execution_count": null,
      "outputs": [
        {
          "output_type": "display_data",
          "data": {
            "text/plain": [
              "<Figure size 1080x576 with 1 Axes>"
            ],
            "image/png": "[encoded data removed]"
          },
          "metadata": {
            "needs_background": "light"
          }
        }
      ]
    },
    {
      "cell_type": "markdown",
      "id": "1e06c422",
      "metadata": {
        "id": "1e06c422"
      },
      "source": [
        "### Target"
      ]
    },
    {
      "cell_type": "code",
      "execution_count": null,
      "id": "a4e95da3",
      "metadata": {
        "id": "a4e95da3",
        "colab": {
          "base_uri": "https://localhost:8080/"
        },
        "outputId": "181f873c-d740-4d30-c479-b3aff17fe206"
      },
      "outputs": [
        {
          "output_type": "execute_result",
          "data": {
            "text/plain": [
              "24.8    299\n",
              "23.8    289\n",
              "22.7    287\n",
              "23.4    280\n",
              "25.9    274\n",
              "       ... \n",
              "76.3      1\n",
              "72.4      1\n",
              "89.6      1\n",
              "90.7      1\n",
              "7.6       1\n",
              "Name: windgusts_10m_max (km/h), Length: 202, dtype: int64"
            ]
          },
          "metadata": {},
          "execution_count": 48
        }
      ],
      "source": [
        "df_train_merge[\"windgusts_10m_max (km/h)\"].value_counts()"
      ]
    },
    {
      "cell_type": "code",
      "execution_count": null,
      "id": "dba1ca9f",
      "metadata": {
        "id": "dba1ca9f",
        "colab": {
          "base_uri": "https://localhost:8080/"
        },
        "outputId": "1118b400-2ed6-48c8-aedf-30fe0f7f045c"
      },
      "outputs": [
        {
          "output_type": "stream",
          "name": "stdout",
          "text": [
            "<class 'pandas.core.frame.DataFrame'>\n",
            "Int64Index: 13198 entries, 0 to 13197\n",
            "Columns: 256 entries, time to soil_moisture_100_to_255cm (m³/m³)_max_12\n",
            "dtypes: datetime64[ns](1), float64(251), int64(1), object(3)\n",
            "memory usage: 26.4+ MB\n"
          ]
        }
      ],
      "source": [
        "df_train_merge.info()"
      ]
    },
    {
      "cell_type": "code",
      "execution_count": null,
      "id": "89618dc5",
      "metadata": {
        "id": "89618dc5",
        "colab": {
          "base_uri": "https://localhost:8080/"
        },
        "outputId": "79dbd39b-5af2-4c3f-8960-847398d78647"
      },
      "outputs": [
        {
          "output_type": "stream",
          "name": "stdout",
          "text": [
            "<class 'pandas.core.frame.DataFrame'>\n",
            "Int64Index: 4972 entries, 0 to 4971\n",
            "Columns: 255 entries, time to soil_moisture_100_to_255cm (m³/m³)_max_12\n",
            "dtypes: datetime64[ns](1), float64(250), int64(1), object(3)\n",
            "memory usage: 9.7+ MB\n"
          ]
        }
      ],
      "source": [
        "df_test_merge.info()"
      ]
    },
    {
      "cell_type": "code",
      "execution_count": null,
      "id": "9841d689",
      "metadata": {
        "id": "9841d689"
      },
      "outputs": [],
      "source": [
        "## Shuffle\n",
        "X = df_train_merge.drop(columns=\"rain_sum (mm)\")\n",
        "y = df_train_merge[\"rain_sum (mm)\"]\n",
        "\n",
        "X_train, y_train = X[X.time < \"2021-01-01\"], y[X.time < \"2021-01-01\"]\n",
        "X_test, y_test = X[X.time >= \"2021-01-01\"], y[X.time >= \"2021-01-01\"]"
      ]
    },
    {
      "cell_type": "code",
      "source": [
        "from jcopml.pipeline import num_pipe, cat_pipe\n",
        "from jcopml.utils import save_model, load_model\n",
        "from jcopml.plot import plot_missing_value\n",
        "from jcopml.feature_importance import mean_score_decrease"
      ],
      "metadata": {
        "id": "eITpu29H9ELz"
      },
      "id": "eITpu29H9ELz",
      "execution_count": null,
      "outputs": []
    },
    {
      "cell_type": "code",
      "execution_count": null,
      "id": "1f16ca37",
      "metadata": {
        "id": "1f16ca37"
      },
      "outputs": [],
      "source": [
        "#COMMON\n",
        "preprocessor = ColumnTransformer([\n",
        "('numeric', num_pipe(transform = \"yeo-johnson\",impute = \"mean\"), X_train.select_dtypes(\"number\").columns.tolist() ),\n",
        "    ('categoric', cat_pipe(encoder='ordinal'), [\"city\"]),\n",
        "])"
      ]
    },
    {
      "cell_type": "code",
      "source": [
        "#KNN\n",
        "from sklearn.neighbors import KNeighborsRegressor\n",
        "from sklearn.linear_model import LinearRegression\n",
        "from lightgbm import LGBMRegressor\n",
        "pipeline = Pipeline([\n",
        "    ('prep', preprocessor),\n",
        "    ('algo', KNeighborsregressor())\n",
        "])"
      ],
      "metadata": {
        "id": "RoNkeJ8D95j_"
      },
      "id": "RoNkeJ8D95j_",
      "execution_count": null,
      "outputs": []
    },
    {
      "cell_type": "code",
      "source": [
        "#RANDOMIZED SEARCH CV\n",
        "from sklearn.model_selection import RandomizedSearchCV,KFold\n",
        "from jcopml.tuning import random_search_params as rsp\n",
        "from sklearn.metrics import mean_squared_error\n",
        "lgbm_params = {}\n",
        "\n",
        "cv = KFold(shuffle = True,random_state = 42,n_splits = 5)\n",
        "#rsp.knn_params -> knn\n",
        "#rsp.svm_params -> svm\n",
        "model = RandomizedSearchCV(pipeline, rsp.knn_params, cv=cv, scoring='neg_mean_squared_error', n_iter=1, n_jobs=-1, verbose=1, random_state=42)\n",
        "model.fit(X_train, y_train)\n",
        "\n",
        "print(model.best_params_)\n",
        "print(mean_squared_error(y_train, model.predict(X_train)), model.best_score_, mean_squared_error(y_test,model.predict(X_test)))"
      ],
      "metadata": {
        "id": "GGNb_yB6-Jp6",
        "colab": {
          "base_uri": "https://localhost:8080/"
        },
        "outputId": "99c07ff0-7bcb-4921-a52c-03c6f39608d7"
      },
      "id": "GGNb_yB6-Jp6",
      "execution_count": null,
      "outputs": [
        {
          "output_type": "stream",
          "name": "stdout",
          "text": [
            "Fitting 5 folds for each of 1 candidates, totalling 5 fits\n",
            "{}\n",
            "5.247195204331551 -19.008810008760484 14.580620452220973\n"
          ]
        }
      ]
    },
    {
      "cell_type": "code",
      "source": [],
      "metadata": {
        "id": "juSkmX8O7uFO"
      },
      "id": "juSkmX8O7uFO",
      "execution_count": null,
      "outputs": []
    }
  ],
  "metadata": {
    "kernelspec": {
      "display_name": "Python 3 (ipykernel)",
      "language": "python",
      "name": "python3"
    },
    "language_info": {
      "codemirror_mode": {
        "name": "ipython",
        "version": 3
      },
      "file_extension": ".py",
      "mimetype": "text/x-python",
      "name": "python",
      "nbconvert_exporter": "python",
      "pygments_lexer": "ipython3",
      "version": "3.10.8"
    },
    "colab": {
      "provenance": []
    }
  },
  "nbformat": 4,
  "nbformat_minor": 5
}